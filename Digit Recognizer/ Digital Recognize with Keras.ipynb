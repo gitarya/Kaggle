{
 "cells": [
  {
   "cell_type": "code",
   "execution_count": 7,
   "metadata": {},
   "outputs": [],
   "source": [
    "import pandas as pd\n",
    "import numpy as np\n",
    "import matplotlib.pyplot as plt\n",
    "import matplotlib.image as mping\n",
    "import seaborn as sns\n",
    "%matplotlib inline\n",
    "\n",
    "np.random.seed(2)\n",
    "\n",
    "from sklearn.model_selection import train_test_split\n",
    "from sklearn.metrics import confusion_matrix\n",
    "import itertools\n",
    "\n",
    "from keras.utils.np_utils import to_categorical # convert to one-hot-encdoing\n",
    "from keras.models import Sequential\n",
    "from keras.layers import Dense, Dropout, Flatten, Conv2D, MaxPool2D\n",
    "from keras.optimizers import RMSprop\n",
    "from keras.preprocessing.image import ImageDataGenerator\n",
    "from keras.callbacks import ReduceLROnPlateau\n",
    "\n",
    "sns.set(style = 'white', context='notebook', palette='deep')"
   ]
  },
  {
   "cell_type": "markdown",
   "metadata": {},
   "source": [
    "# Data Preparation"
   ]
  },
  {
   "cell_type": "code",
   "execution_count": 11,
   "metadata": {},
   "outputs": [
    {
     "data": {
      "text/plain": [
       "1    4684\n",
       "7    4401\n",
       "3    4351\n",
       "9    4188\n",
       "2    4177\n",
       "6    4137\n",
       "0    4132\n",
       "4    4072\n",
       "8    4063\n",
       "5    3795\n",
       "Name: label, dtype: int64"
      ]
     },
     "execution_count": 11,
     "metadata": {},
     "output_type": "execute_result"
    },
    {
     "data": {
      "image/png": "[encoded data removed]",
      "text/plain": [
       "<Figure size 432x288 with 1 Axes>"
      ]
     },
     "metadata": {},
     "output_type": "display_data"
    }
   ],
   "source": [
    "train = pd.read_csv(\"train.csv\")\n",
    "test = pd.read_csv(\"test.csv\")\n",
    "\n",
    "Y_train = train['label']\n",
    "X_train = train.drop(labels=['label'],axis=1)\n",
    "\n",
    "del train\n",
    "\n",
    "g = sns.countplot(Y_train)\n",
    "Y_train.value_counts()"
   ]
  },
  {
   "cell_type": "markdown",
   "metadata": {},
   "source": []
  },
  {
   "cell_type": "code",
   "execution_count": 12,
   "metadata": {},
   "outputs": [
    {
     "data": {
      "text/plain": [
       "count       784\n",
       "unique        1\n",
       "top       False\n",
       "freq        784\n",
       "dtype: object"
      ]
     },
     "execution_count": 12,
     "metadata": {},
     "output_type": "execute_result"
    }
   ],
   "source": [
    "# 处理缺失值\n",
    "X_train.isnull().any().describe()"
   ]
  },
  {
   "cell_type": "code",
   "execution_count": 13,
   "metadata": {},
   "outputs": [
    {
     "data": {
      "text/plain": [
       "count       784\n",
       "unique        1\n",
       "top       False\n",
       "freq        784\n",
       "dtype: object"
      ]
     },
     "execution_count": 13,
     "metadata": {},
     "output_type": "execute_result"
    }
   ],
   "source": [
    "test.isnull().any().describe()\n",
    "# 运行结果显示没有缺失值"
   ]
  },
  {
   "cell_type": "markdown",
   "metadata": {},
   "source": []
  },
  {
   "cell_type": "code",
   "execution_count": 14,
   "metadata": {},
   "outputs": [],
   "source": [
    "#正则化\n",
    "X_train = X_train/255.0\n",
    "test = test/255.0"
   ]
  },
  {
   "cell_type": "code",
   "execution_count": 16,
   "metadata": {},
   "outputs": [],
   "source": [
    "# Reshape\n",
    "X_train = X_train.values.reshape(-1,28,28,1)\n",
    "test = test.values.reshape(-1,28,28,1)"
   ]
  },
  {
   "cell_type": "code",
   "execution_count": 17,
   "metadata": {},
   "outputs": [],
   "source": [
    "# Label encoding\n",
    "# eg: y = 2 -> [0,0,1,0,0,0,0,0,0]\n",
    "Y_train = to_categorical(Y_train, num_classes = 10)"
   ]
  },
  {
   "cell_type": "code",
   "execution_count": 18,
   "metadata": {},
   "outputs": [],
   "source": [
    "# 设置训练集与开发集\n",
    "random_seed = 2\n",
    "X_train, X_val, Y_train, Y_val = train_test_split(X_train, Y_train, test_size=0.1, random_state=random_seed)"
   ]
  },
  {
   "cell_type": "code",
   "execution_count": 19,
   "metadata": {},
   "outputs": [
    {
     "data": {
      "image/png": "[encoded data removed]",
      "text/plain": [
       "<Figure size 432x288 with 1 Axes>"
      ]
     },
     "metadata": {},
     "output_type": "display_data"
    }
   ],
   "source": [
    "g = plt.imshow(X_train[0][:,:,0])"
   ]
  },
  {
   "cell_type": "markdown",
   "metadata": {},
   "source": [
    "# 3.CNN"
   ]
  },
  {
   "cell_type": "code",
   "execution_count": 21,
   "metadata": {},
   "outputs": [],
   "source": [
    "## 模型结构： RElu卷积层*2 -> 最大池化 -> Dropout层*2（防止过拟合）-> Flatten -> 全连接层 -> Dropout\n",
    "model = Sequential()\n",
    "\n",
    "model.add(Conv2D(filters = 32, kernel_size = (5,5), padding = 'Same',\n",
    "                activation = 'relu', input_shape=(28,28,1)))\n",
    "model.add(Conv2D(filters = 32, kernel_size = (5,5), padding = 'Same',\n",
    "                activation = 'relu'))\n",
    "model.add(MaxPool2D(pool_size=(2,2)))\n",
    "model.add(Dropout(0.25))\n",
    "\n",
    "model.add(Conv2D(filters = 64, kernel_size = (3,3), padding='Same',\n",
    "                activation='relu'))\n",
    "model.add(Conv2D(filters = 64, kernel_size = (3,3), padding='Same',\n",
    "               activation = 'relu'))\n",
    "model.add(MaxPool2D(pool_size=(2,2), strides = (2,2)))\n",
    "model.add(Dropout(0.25))\n",
    "\n",
    "model.add(Flatten())\n",
    "model.add(Dense(256, activation='relu'))\n",
    "model.add(Dropout(0.5))\n",
    "model.add(Dense(10, activation='softmax'))"
   ]
  },
  {
   "cell_type": "markdown",
   "metadata": {},
   "source": [
    "## 3.2 Optimizer and annealer"
   ]
  },
  {
   "cell_type": "code",
   "execution_count": 25,
   "metadata": {},
   "outputs": [],
   "source": [
    "optimizer = RMSprop(lr = 0.001, rho = 0.9, epsilon=1e-08, decay=0.0)"
   ]
  },
  {
   "cell_type": "code",
   "execution_count": 26,
   "metadata": {},
   "outputs": [],
   "source": [
    "model.compile(optimizer = optimizer, loss='categorical_crossentropy', metrics=['accuracy'])"
   ]
  },
  {
   "cell_type": "code",
   "execution_count": 30,
   "metadata": {},
   "outputs": [],
   "source": [
    "learning_rate_reduction = ReduceLROnPlateau(monitor='val_acc',\n",
    "                                           patience=3,\n",
    "                                           verbose=1,\n",
    "                                           factor=0.5,\n",
    "                                           min_lr=0.00001)"
   ]
  },
  {
   "cell_type": "code",
   "execution_count": 32,
   "metadata": {},
   "outputs": [],
   "source": [
    "epochs = 30 # Turn epochs to 30 to get 0.9967 accyract\n",
    "batch_size = 86"
   ]
  },
  {
   "cell_type": "markdown",
   "metadata": {},
   "source": [
    "## 3.3 Data augmentation"
   ]
  },
  {
   "cell_type": "code",
   "execution_count": 35,
   "metadata": {},
   "outputs": [],
   "source": [
    "# 常用技术有grayscales, horizontal flips, vertical flips, random crops, color jitters, translation, 旋转等等\n",
    "datagen = ImageDataGenerator(\n",
    "        featurewise_center = False, # set input mean to 0 over the dataset\n",
    "        samplewise_center=False, # set each sample mean to 0\n",
    "        featurewise_std_normalization=False, # divide inputs by std of the dataset\n",
    "        samplewise_std_normalization = False, # divide each input by its std\n",
    "        zca_whitening=False, # apply ZCA whitening\n",
    "        rotation_range = 10, # Randomly zoom image\n",
    "        width_shift_range=0.1, # randomly shift images for horizontally(fraction of total width)\n",
    "        height_shift_range = 0.1, # randomly shift images vertically (fraction of total height)\n",
    "        horizontal_flip = False, # randomly flip images\n",
    "        vertical_flip = False # randomly flip images\n",
    "    )\n",
    "    \n",
    "datagen.fit(X_train)"
   ]
  },
  {
   "cell_type": "code",
   "execution_count": 36,
   "metadata": {},
   "outputs": [
    {
     "name": "stdout",
     "output_type": "stream",
     "text": [
      "Epoch 1/30\n",
      " - 255s - loss: 0.3876 - acc: 0.8769 - val_loss: 0.0689 - val_acc: 0.9793\n",
      "Epoch 2/30\n",
      " - 253s - loss: 0.1209 - acc: 0.9643 - val_loss: 0.0601 - val_acc: 0.9810\n",
      "Epoch 3/30\n",
      " - 243s - loss: 0.0911 - acc: 0.9727 - val_loss: 0.0597 - val_acc: 0.9831\n",
      "Epoch 4/30\n",
      " - 231s - loss: 0.0791 - acc: 0.9768 - val_loss: 0.0368 - val_acc: 0.9888\n",
      "Epoch 5/30\n",
      " - 216s - loss: 0.0676 - acc: 0.9801 - val_loss: 0.0263 - val_acc: 0.9921\n",
      "Epoch 6/30\n",
      " - 216s - loss: 0.0649 - acc: 0.9809 - val_loss: 0.0317 - val_acc: 0.9933\n",
      "Epoch 7/30\n",
      " - 242s - loss: 0.0621 - acc: 0.9822 - val_loss: 0.0237 - val_acc: 0.9926\n",
      "Epoch 8/30\n",
      " - 235s - loss: 0.0566 - acc: 0.9830 - val_loss: 0.0226 - val_acc: 0.9924\n",
      "Epoch 9/30\n",
      " - 241s - loss: 0.0582 - acc: 0.9834 - val_loss: 0.0255 - val_acc: 0.9924\n",
      "Epoch 10/30\n",
      " - 236s - loss: 0.0560 - acc: 0.9848 - val_loss: 0.0333 - val_acc: 0.9902\n",
      "\n",
      "Epoch 00010: ReduceLROnPlateau reducing learning rate to 0.0005000000237487257.\n",
      "Epoch 11/30\n",
      " - 242s - loss: 0.0448 - acc: 0.9870 - val_loss: 0.0217 - val_acc: 0.9929\n",
      "Epoch 12/30\n",
      " - 225s - loss: 0.0407 - acc: 0.9878 - val_loss: 0.0188 - val_acc: 0.9940\n",
      "Epoch 13/30\n",
      " - 246s - loss: 0.0406 - acc: 0.9887 - val_loss: 0.0179 - val_acc: 0.9952\n",
      "Epoch 14/30\n",
      " - 230s - loss: 0.0435 - acc: 0.9881 - val_loss: 0.0173 - val_acc: 0.9945\n",
      "Epoch 15/30\n",
      " - 230s - loss: 0.0398 - acc: 0.9891 - val_loss: 0.0305 - val_acc: 0.9943\n",
      "Epoch 16/30\n",
      " - 221s - loss: 0.0417 - acc: 0.9882 - val_loss: 0.0227 - val_acc: 0.9943\n",
      "Epoch 17/30\n",
      " - 231s - loss: 0.0403 - acc: 0.9885 - val_loss: 0.0164 - val_acc: 0.9940\n",
      "\n",
      "Epoch 00017: ReduceLROnPlateau reducing learning rate to 0.0002500000118743628.\n",
      "Epoch 18/30\n",
      " - 225s - loss: 0.0355 - acc: 0.9901 - val_loss: 0.0201 - val_acc: 0.9933\n",
      "Epoch 19/30\n",
      " - 243s - loss: 0.0313 - acc: 0.9913 - val_loss: 0.0189 - val_acc: 0.9950\n",
      "Epoch 20/30\n",
      " - 252s - loss: 0.0342 - acc: 0.9904 - val_loss: 0.0184 - val_acc: 0.9943\n",
      "\n",
      "Epoch 00020: ReduceLROnPlateau reducing learning rate to 0.0001250000059371814.\n",
      "Epoch 21/30\n",
      " - 251s - loss: 0.0307 - acc: 0.9911 - val_loss: 0.0180 - val_acc: 0.9955\n",
      "Epoch 22/30\n",
      " - 228s - loss: 0.0298 - acc: 0.9916 - val_loss: 0.0186 - val_acc: 0.9948\n",
      "Epoch 23/30\n",
      " - 249s - loss: 0.0278 - acc: 0.9920 - val_loss: 0.0170 - val_acc: 0.9955\n",
      "Epoch 24/30\n",
      " - 277s - loss: 0.0295 - acc: 0.9918 - val_loss: 0.0178 - val_acc: 0.9945\n",
      "Epoch 25/30\n",
      " - 220s - loss: 0.0281 - acc: 0.9916 - val_loss: 0.0197 - val_acc: 0.9948\n",
      "\n",
      "Epoch 00025: ReduceLROnPlateau reducing learning rate to 6.25000029685907e-05.\n",
      "Epoch 26/30\n",
      " - 258s - loss: 0.0275 - acc: 0.9925 - val_loss: 0.0186 - val_acc: 0.9955\n",
      "Epoch 27/30\n",
      " - 885s - loss: 0.0256 - acc: 0.9927 - val_loss: 0.0173 - val_acc: 0.9950\n",
      "Epoch 28/30\n",
      " - 1073s - loss: 0.0263 - acc: 0.9928 - val_loss: 0.0165 - val_acc: 0.9950\n",
      "\n",
      "Epoch 00028: ReduceLROnPlateau reducing learning rate to 3.125000148429535e-05.\n",
      "Epoch 29/30\n",
      " - 260s - loss: 0.0266 - acc: 0.9925 - val_loss: 0.0158 - val_acc: 0.9952\n",
      "Epoch 30/30\n",
      " - 253s - loss: 0.0268 - acc: 0.9922 - val_loss: 0.0168 - val_acc: 0.9950\n"
     ]
    }
   ],
   "source": [
    "history = model.fit_generator(datagen.flow(X_train, Y_train, batch_size=batch_size),\n",
    "                             epochs = epochs, validation_data=(X_val,Y_val),\n",
    "                             verbose = 2, steps_per_epoch=X_train.shape[0] // batch_size,\n",
    "                             callbacks = [learning_rate_reduction])\n"
   ]
  },
  {
   "cell_type": "markdown",
   "metadata": {},
   "source": [
    "# 4.Evaluate the model"
   ]
  },
  {
   "cell_type": "markdown",
   "metadata": {},
   "source": [
    "## 4.1 Training and Validation curves"
   ]
  },
  {
   "cell_type": "code",
   "execution_count": 38,
   "metadata": {},
   "outputs": [
    {
     "data": {
      "image/png": "[encoded data removed]",
      "text/plain": [
       "<Figure size 432x288 with 2 Axes>"
      ]
     },
     "metadata": {},
     "output_type": "display_data"
    }
   ],
   "source": [
    "# plot the loss and accuracy curves for training and validation\n",
    "fig, ax = plt.subplots(2,1)\n",
    "ax[0].plot(history.history['loss'], color='b', label='Training loss')\n",
    "ax[0].plot(history.history['val_loss'], color='r', label='validation loss', axes = ax[0])\n",
    "legend = ax[0].legend(loc='best', shadow=True)\n",
    "\n",
    "ax[1].plot(history.history['acc'],color='b', label='Training accuracy')\n",
    "ax[1].plot(history.history['val_acc'], color='r', label='Validation accuracy')\n",
    "legend = ax[1].legend(loc = 'best', shadow=True)"
   ]
  },
  {
   "cell_type": "markdown",
   "metadata": {},
   "source": [
    "## 4.2 Confusion matrix"
   ]
  },
  {
   "cell_type": "code",
   "execution_count": 44,
   "metadata": {},
   "outputs": [
    {
     "data": {
      "image/png": "[encoded data removed]",
      "text/plain": [
       "<Figure size 432x288 with 2 Axes>"
      ]
     },
     "metadata": {},
     "output_type": "display_data"
    }
   ],
   "source": [
    "def plot_confusion_matrix(cm, classes,\n",
    "                          normalize=False, title='Confusion matrix',\n",
    "                          cmap=plt.cm.Blues):\n",
    "        '''\n",
    "        This function prints and plots the confusion matrix.\n",
    "        Normalization can be applied by setting 'normalize=True\n",
    "        '''\n",
    "        plt.imshow(cm, interpolation='nearest', cmap = cmap)\n",
    "        plt.title(title)\n",
    "        plt.colorbar()\n",
    "        tick_marks = np.arange(len(classes))\n",
    "        plt.xticks(tick_marks, classes, rotation = 45)\n",
    "        plt.yticks(tick_marks, classes)\n",
    "        \n",
    "        if normalize:\n",
    "            cm = cm.astype('float') / cm.sum(axis=1)[:, np.newaxis]\n",
    "            \n",
    "        thresh = cm.max()/2.\n",
    "        for i, j in itertools.product(range(cm.shape[0]),range(cm.shape[1])):\n",
    "            plt.text(j,i, cm[i,j],\n",
    "                    horizontalalignment='center',\n",
    "                    color = 'white' if cm[i,j] > thresh else 'black')\n",
    "            \n",
    "            plt.tight_layout()\n",
    "            plt.ylabel('True label')\n",
    "            plt.xlabel('Predicted label')\n",
    "            \n",
    "# predict the values from the validation dataset\n",
    "Y_pred = model.predict(X_val)\n",
    "# Convert predictions classes to one hot vectors\n",
    "Y_pred_classes = np.argmax(Y_pred, axis=1)\n",
    "# Convert validation observations to one hot vectors\n",
    "Y_true = np.argmax(Y_val, axis=1)\n",
    "# COmpute the confusion matrix\n",
    "confusion_mtx = confusion_matrix(Y_true, Y_pred_classes) \n",
    "# plot the confusion matrix\n",
    "plot_confusion_matrix(confusion_mtx, classes=range(10))"
   ]
  },
  {
   "cell_type": "code",
   "execution_count": 49,
   "metadata": {},
   "outputs": [
    {
     "data": {
      "image/png": "[encoded data removed]",
      "text/plain": [
       "<Figure size 432x288 with 6 Axes>"
      ]
     },
     "metadata": {},
     "output_type": "display_data"
    }
   ],
   "source": [
    "# Display some error results\n",
    "\n",
    "# Erros are differnece between predicted labels and true labels\n",
    "errors = (Y_pred_classes - Y_true != 0)\n",
    "\n",
    "Y_pred_classes_errors = Y_pred_classes[errors]\n",
    "Y_pred_errors = Y_pred[errors]\n",
    "Y_true_errors = Y_true[errors]\n",
    "X_val_errors = X_val[errors]\n",
    "\n",
    "def display_errors(errors_index, img_errors, pred_errors, obs_errors):\n",
    "    '''This is function show 6 images with the predicted and real labels'''\n",
    "    n = 0\n",
    "    nrows = 2\n",
    "    ncols = 3\n",
    "    fig, ax = plt.subplots(nrows, ncols, sharex = True, sharey=True)\n",
    "    for row in range(nrows):\n",
    "        for col in range(ncols):\n",
    "            error = errors_index[n]\n",
    "            ax[row,col].imshow((img_errors[error]).reshape((28,28)))\n",
    "            ax[row, col].set_title('predicted label :{}n\\True label :{}'.format(pred_errors[error],\n",
    "                                                                               obs_errors[error]))\n",
    "            n += 1\n",
    "            \n",
    "# Probabilities of the wrong predicted numbers\n",
    "Y_pred_errors_prob = np.max(Y_pred_errors, axis=1)\n",
    "\n",
    "# Predicted probabilities of the true values in the error set\n",
    "true_prob_errors = np.diagonal(np.take(Y_pred_errors, Y_true_errors, axis=1))\n",
    "\n",
    "# Differnece between the probability of the predicted label and the truw label\n",
    "delta_pred_true_errors = Y_pred_errors_prob - true_prob_errors\n",
    "\n",
    "# Sorted list of the delta prob errors\n",
    "sorted_dela_errors = np.argsort(delta_pred_true_errors)\n",
    "\n",
    "# Top 6 errors\n",
    "most_important_errors = sorted_dela_errors[-6:]\n",
    "\n",
    "# Show the top 6 errors\n",
    "display_errors(most_important_errors, X_val_errors, Y_pred_classes_errors, Y_true_errors)\n",
    "\n"
   ]
  },
  {
   "cell_type": "code",
   "execution_count": 50,
   "metadata": {},
   "outputs": [],
   "source": [
    "results = model.predict(test)\n",
    "results = np.argmax(results, axis=1)\n",
    "results = pd.Series(results, name='Label')"
   ]
  },
  {
   "cell_type": "code",
   "execution_count": 54,
   "metadata": {},
   "outputs": [],
   "source": [
    "submission = pd.concat([pd.Series(range(1,28001), name='ImageId'), results],axis=1)\n",
    "submission.to_csv('cnn_mnist_datafen.csv',index=False)"
   ]
  },
  {
   "cell_type": "code",
   "execution_count": null,
   "metadata": {},
   "outputs": [],
   "source": []
  }
 ],
 "metadata": {
  "kernelspec": {
   "display_name": "Python 3",
   "language": "python",
   "name": "python3"
  },
  "language_info": {
   "codemirror_mode": {
    "name": "ipython",
    "version": 3
   },
   "file_extension": ".py",
   "mimetype": "text/x-python",
   "name": "python",
   "nbconvert_exporter": "python",
   "pygments_lexer": "ipython3",
   "version": "3.6.4"
  }
 },
 "nbformat": 4,
 "nbformat_minor": 2
}
